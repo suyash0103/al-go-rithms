{
  "nbformat": 4,
  "nbformat_minor": 0,
  "metadata": {
    "colab": {
      "name": "GD Regression.ipynb",
      "version": "0.3.2",
      "provenance": []
    },
    "kernelspec": {
      "display_name": "Python 3",
      "language": "python",
      "name": "python3"
    }
  },
  "cells": [
    {
      "metadata": {
        "id": "d1eijtJishCs",
        "colab_type": "code",
        "colab": {}
      },
      "cell_type": "code",
      "source": [
        "import matplotlib.pyplot as plt \n",
        "import numpy as np \n",
        "import pandas as pd\n",
        "from sklearn import datasets,linear_model, metrics"
      ],
      "execution_count": 0,
      "outputs": []
    },
    {
      "metadata": {
        "id": "CPM_IXjsshC7",
        "colab_type": "code",
        "colab": {}
      },
      "cell_type": "code",
      "source": [
        "boston = datasets.load_boston()\n",
        "X = boston.data \n",
        "y = boston.target\n",
        "# X=pd.DataFrame(X)\n",
        "# print(X)\n",
        "# y=pd.DataFrame(y)\n",
        "# print(y)"
      ],
      "execution_count": 0,
      "outputs": []
    },
    {
      "metadata": {
        "id": "BtT5OsE5shDD",
        "colab_type": "code",
        "colab": {},
        "outputId": "c70ddbd4-af98-47a6-8e07-af281508c08b"
      },
      "cell_type": "code",
      "source": [
        "from sklearn.model_selection import train_test_split \n",
        "X_train, X_test, y_train, y_test = train_test_split(X, y, test_size=0.4,random_state=1) \n",
        "print(X_train.shape)\n",
        "print(y_train.shape)\n",
        "print(X_test.shape)\n",
        "print(y_test.shape)"
      ],
      "execution_count": 0,
      "outputs": [
        {
          "output_type": "stream",
          "text": [
            "(303, 13)\n",
            "(303,)\n",
            "(203, 13)\n",
            "(203,)\n"
          ],
          "name": "stdout"
        }
      ]
    },
    {
      "metadata": {
        "id": "HejNzeV7shDT",
        "colab_type": "code",
        "colab": {},
        "outputId": "d5d20cc5-f3eb-49bc-ce74-6b3dfa7c708e"
      },
      "cell_type": "code",
      "source": [
        "reg = linear_model.SGDRegressor(max_iter=8000,alpha=10,loss='huber',shuffle=True)\n",
        "reg.fit(X_train, y_train)\n",
        "print('Coefficients: \\n', reg.coef_)"
      ],
      "execution_count": 0,
      "outputs": [
        {
          "output_type": "stream",
          "text": [
            "Coefficients: \n",
            " [-0.00029299  0.04176487 -0.00545658  0.00029148  0.00021499  0.00571752\n",
            "  0.00099275  0.00253648 -0.001752    0.0195632   0.00330779  0.04352452\n",
            " -0.01196262]\n"
          ],
          "name": "stdout"
        }
      ]
    },
    {
      "metadata": {
        "id": "7EkTxPz4shDe",
        "colab_type": "code",
        "colab": {},
        "outputId": "39342097-0d71-4db5-908e-71d9e8a23327"
      },
      "cell_type": "code",
      "source": [
        "print('Variance score: ',reg.score(X_test, y_test))"
      ],
      "execution_count": 0,
      "outputs": [
        {
          "output_type": "stream",
          "text": [
            "Variance score:  0.0686430245080688\n"
          ],
          "name": "stdout"
        }
      ]
    },
    {
      "metadata": {
        "id": "yhmzq-uAshDm",
        "colab_type": "code",
        "colab": {},
        "outputId": "b28a7b94-f748-4253-96e0-86d5316b7b89"
      },
      "cell_type": "code",
      "source": [
        "plt.scatter(reg.predict(X_train), reg.predict(X_train) - y_train, \n",
        "            color = \"green\", s = 10, label = 'Train data') \n",
        "  \n",
        " \n",
        "plt.scatter(reg.predict(X_test), reg.predict(X_test) - y_test, \n",
        "            color = \"blue\", s = 10, label = 'Test data') \n",
        "  \n",
        " \n",
        "plt.hlines(y = 0, xmin = 0, xmax = 50, linewidth = 2) \n",
        "\n",
        "plt.legend(loc = 'upper right')  \n",
        "plt.title(\"Residual errors\") \n",
        "plt.show() "
      ],
      "execution_count": 0,
      "outputs": [
        {
          "output_type": "display_data",
          "data": {
            "image/png": "[encoded data removed]",
            "text/plain": [
              "<Figure size 432x288 with 1 Axes>"
            ]
          },
          "metadata": {
            "tags": []
          }
        }
      ]
    }
  ]
}